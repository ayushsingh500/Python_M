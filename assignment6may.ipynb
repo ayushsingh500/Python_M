{
 "cells": [
  {
   "cell_type": "code",
   "execution_count": 1,
   "id": "603237dd-6407-432b-a607-fc8150419154",
   "metadata": {},
   "outputs": [
    {
     "name": "stdin",
     "output_type": "stream",
     "text": [
      "enter a number 2\n",
      "enter second number 9\n"
     ]
    },
    {
     "name": "stdout",
     "output_type": "stream",
     "text": [
      "The lcm of 2 and 9 is 18\n"
     ]
    }
   ],
   "source": [
    "# create a function and find out the lcm of 2 numbers \n",
    "def func(x,y):\n",
    "    if x<y:\n",
    "        biggest=y\n",
    "    else:\n",
    "        biggest=x\n",
    "    while(True):\n",
    "        if((biggest%x==0) and (biggest%y==0)):\n",
    "            func=biggest\n",
    "            break\n",
    "        biggest+=1\n",
    "    return func\n",
    "\n",
    "a=int(input(\"enter a number\"))\n",
    "b=int(input(\"enter second number\"))\n",
    "print(\"The lcm of\", a,\"and\", b,\"is\",func(a,b)) "
   ]
  },
  {
   "cell_type": "code",
   "execution_count": 2,
   "id": "8fff8aad-b8e5-4d3a-8626-e3d142aa3546",
   "metadata": {},
   "outputs": [
    {
     "name": "stdin",
     "output_type": "stream",
     "text": [
      "Enter the number to check prime =  1\n"
     ]
    },
    {
     "name": "stdout",
     "output_type": "stream",
     "text": [
      "1 is a prime number\n"
     ]
    }
   ],
   "source": [
    "# create a function and find the prime number from the input\n",
    "def prime(y):\n",
    "    if y == 2:\n",
    "        print(y,\"is a prime number\")\n",
    "    else:\n",
    "        for i in range(2,y):\n",
    "            if (y%i)==0:\n",
    "                print(y, \"is not a prime number\")\n",
    "                break\n",
    "        else:\n",
    "            print(y, \"is a prime number\")\n",
    "\n",
    "y=int(input(\"Enter the number to check prime = \"))\n",
    "prime(y)"
   ]
  },
  {
   "cell_type": "code",
   "execution_count": null,
   "id": "4bf76279-5f35-4c0b-93e9-29295ad36c83",
   "metadata": {},
   "outputs": [],
   "source": []
  }
 ],
 "metadata": {
  "kernelspec": {
   "display_name": "Python 3 (ipykernel)",
   "language": "python",
   "name": "python3"
  },
  "language_info": {
   "codemirror_mode": {
    "name": "ipython",
    "version": 3
   },
   "file_extension": ".py",
   "mimetype": "text/x-python",
   "name": "python",
   "nbconvert_exporter": "python",
   "pygments_lexer": "ipython3",
   "version": "3.10.11"
  }
 },
 "nbformat": 4,
 "nbformat_minor": 5
}
