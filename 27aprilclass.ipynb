{
 "cells": [
  {
   "cell_type": "code",
   "execution_count": 1,
   "id": "2380fb0b-42a4-40a9-8003-567e8c56da5f",
   "metadata": {},
   "outputs": [],
   "source": [
    "#dictionary\n",
    "# colllection of element\n",
    "# key:value (element)\n",
    "#key:value, key: value \n",
    "#mutable in nature"
   ]
  },
  {
   "cell_type": "code",
   "execution_count": 3,
   "id": "cc9c3790-14b5-4dfb-8230-7b312e33cefb",
   "metadata": {},
   "outputs": [
    {
     "name": "stdout",
     "output_type": "stream",
     "text": [
      "{1: 'tushara', 2: 'aygyh', 3: 'aditya', ' company': 'regex software'}\n"
     ]
    }
   ],
   "source": [
    "mydictionary={1:\"tushara\", 2:\"aygyh\", 3:\"aditya\",\" company\":\"regex software\"}\n",
    "print(mydictionary)"
   ]
  },
  {
   "cell_type": "code",
   "execution_count": 7,
   "id": "b85f9c6a-dfd3-44de-8a7f-1b278f0976c3",
   "metadata": {},
   "outputs": [
    {
     "data": {
      "text/plain": [
       "{1: 'tushara', 2: 'aygyh', 3: 'aditya', ' company': 'regex software', 4: 500}"
      ]
     },
     "execution_count": 7,
     "metadata": {},
     "output_type": "execute_result"
    }
   ],
   "source": [
    "mydictionary={1:\"tushara\", 2:\"aygyh\", 3:\"aditya\",\" company\":\"regex software\"}\n",
    "       #insert based on key            \n",
    "mydictionary[4]=500\n",
    "mydictionary"
   ]
  },
  {
   "cell_type": "code",
   "execution_count": 8,
   "id": "e57956f6-d050-48f0-a972-855332bffdbd",
   "metadata": {},
   "outputs": [
    {
     "name": "stdout",
     "output_type": "stream",
     "text": [
      "aygyh\n"
     ]
    }
   ],
   "source": [
    "x=mydictionary.pop(2)\n",
    "print(x)"
   ]
  },
  {
   "cell_type": "code",
   "execution_count": 9,
   "id": "f543b101-805c-4941-b2ae-295d0c930336",
   "metadata": {},
   "outputs": [
    {
     "name": "stdout",
     "output_type": "stream",
     "text": [
      "(4, 500)\n"
     ]
    }
   ],
   "source": [
    "x=mydictionary.popitem()\n",
    "print(x)"
   ]
  },
  {
   "cell_type": "code",
   "execution_count": 10,
   "id": "7f10457b-2457-4444-9bdc-a060f94a5f1e",
   "metadata": {},
   "outputs": [
    {
     "data": {
      "text/plain": [
       "{1: 'tushara', 3: 'aditya', ' company': 'regex software'}"
      ]
     },
     "execution_count": 10,
     "metadata": {},
     "output_type": "execute_result"
    }
   ],
   "source": [
    "mydictionary"
   ]
  },
  {
   "cell_type": "code",
   "execution_count": 12,
   "id": "7854b3fa-913e-4bb2-9cf5-f04d4b64917f",
   "metadata": {},
   "outputs": [
    {
     "data": {
      "text/plain": [
       "True"
      ]
     },
     "execution_count": 12,
     "metadata": {},
     "output_type": "execute_result"
    }
   ],
   "source": [
    "1 in mydictionary"
   ]
  },
  {
   "cell_type": "markdown",
   "id": "3a1e2015-f5ff-4f2a-a632-cd96a4a13584",
   "metadata": {},
   "source": [
    "mydictionary.keys()"
   ]
  },
  {
   "cell_type": "code",
   "execution_count": 14,
   "id": "0145e010-2e38-4152-81a5-e9a9c74eab36",
   "metadata": {},
   "outputs": [
    {
     "data": {
      "text/plain": [
       "dict_keys([1, 3, ' company'])"
      ]
     },
     "execution_count": 14,
     "metadata": {},
     "output_type": "execute_result"
    }
   ],
   "source": [
    "mydictionary.keys()"
   ]
  },
  {
   "cell_type": "code",
   "execution_count": 15,
   "id": "465ec8ad-c008-4694-a7a5-8b3e23ce6ea7",
   "metadata": {},
   "outputs": [
    {
     "data": {
      "text/plain": [
       "dict_values(['tushara', 'aditya', 'regex software'])"
      ]
     },
     "execution_count": 15,
     "metadata": {},
     "output_type": "execute_result"
    }
   ],
   "source": [
    "mydictionary.values()"
   ]
  },
  {
   "cell_type": "code",
   "execution_count": 16,
   "id": "ffedae2a-b25d-4312-9139-055d6e960405",
   "metadata": {},
   "outputs": [
    {
     "data": {
      "text/plain": [
       "dict_items([(1, 'tushara'), (3, 'aditya'), (' company', 'regex software')])"
      ]
     },
     "execution_count": 16,
     "metadata": {},
     "output_type": "execute_result"
    }
   ],
   "source": [
    "mydictionary.items()"
   ]
  },
  {
   "cell_type": "code",
   "execution_count": 17,
   "id": "c40d6767-4a6c-434d-94c2-8fc9b50fd30c",
   "metadata": {},
   "outputs": [
    {
     "name": "stdout",
     "output_type": "stream",
     "text": [
      "{1: 'tushara', 3: 'aditya', ' company': 'regex software', 100: 1}\n"
     ]
    }
   ],
   "source": [
    "x=100\n",
    "if (x not in mydictionary):\n",
    "    mydictionary[x]=1\n",
    "print(mydictionary)    "
   ]
  },
  {
   "cell_type": "code",
   "execution_count": 22,
   "id": "9e04bb44-452d-47e2-8b96-82f6d3c2e669",
   "metadata": {},
   "outputs": [
    {
     "name": "stdout",
     "output_type": "stream",
     "text": [
      "12\n"
     ]
    }
   ],
   "source": [
    "#using dictionary how many character are present\n",
    "dictionary=\"hello tushar\"\n",
    "total=0\n",
    "for char in dictionary:\n",
    "    total+=1\n",
    "print(total)    \n",
    " \n",
    "\n",
    "        "
   ]
  },
  {
   "cell_type": "code",
   "execution_count": 26,
   "id": "91d7c8fa-4543-4a7e-bb7e-e137e604b13d",
   "metadata": {},
   "outputs": [
    {
     "ename": "IndentationError",
     "evalue": "unindent does not match any outer indentation level (<tokenize>, line 4)",
     "output_type": "error",
     "traceback": [
      "\u001b[1;36m  File \u001b[1;32m<tokenize>:4\u001b[1;36m\u001b[0m\n\u001b[1;33m    else:\u001b[0m\n\u001b[1;37m    ^\u001b[0m\n\u001b[1;31mIndentationError\u001b[0m\u001b[1;31m:\u001b[0m unindent does not match any outer indentation level\n"
     ]
    }
   ],
   "source": [
    "for i in\"hello tushar\"\n",
    "  if(\"totalchar\" not in mydictionary):\n",
    "      mydictionary[\"\"totalchar\"]=1\n",
    "    else:\n",
    "       mydimydictionary[\"totalchar\"]=mydictionary[\"totalchar\"]+1\n",
    "print(mydictionary)       "
   ]
  },
  {
   "cell_type": "code",
   "execution_count": 31,
   "id": "e18a9872-0527-4826-8dd0-c3c077b2c97c",
   "metadata": {},
   "outputs": [
    {
     "name": "stdout",
     "output_type": "stream",
     "text": [
      "{'h': 2, 'e': 1, 'l': 2, 'o': 1, ' ': 1, 't': 1, 'u': 1, 's': 1, 'a': 1, 'r': 1}\n"
     ]
    }
   ],
   "source": [
    "dictionary={}\n",
    "for i in \"hello tushar\":\n",
    "    if(i not in dictionary):\n",
    "        dictionary[i]=1\n",
    "\n",
    "    else:\n",
    "       dictionary[i]=dictionary[i]+1\n",
    "print(dictionary)\n",
    "        \n"
   ]
  },
  {
   "cell_type": "code",
   "execution_count": 50,
   "id": "cf96e75d-4ce3-4882-bb56-a3cced81f6f0",
   "metadata": {},
   "outputs": [
    {
     "name": "stdout",
     "output_type": "stream",
     "text": [
      "{'e': 1, 'o': 1, 'u': 1, 'a': 1}\n"
     ]
    }
   ],
   "source": [
    "dictionary={}\n",
    "for i in \"hello tushar\":\n",
    "   if(i==\"a\" or i==\"e\" or i==\"i\" or i==\"o\" or i==\"u\"):\n",
    "        if(i not in dictionary):\n",
    "            dictionary[i]=1\n",
    "        else:\n",
    "            dictionary[i]=dictionary[i]+1\n",
    "print(dictionary)\n",
    "        \n",
    "       "
   ]
  },
  {
   "cell_type": "code",
   "execution_count": null,
   "id": "a2e699fc-0e28-463c-aeb5-abe020248639",
   "metadata": {},
   "outputs": [],
   "source": []
  }
 ],
 "metadata": {
  "kernelspec": {
   "display_name": "Python 3 (ipykernel)",
   "language": "python",
   "name": "python3"
  },
  "language_info": {
   "codemirror_mode": {
    "name": "ipython",
    "version": 3
   },
   "file_extension": ".py",
   "mimetype": "text/x-python",
   "name": "python",
   "nbconvert_exporter": "python",
   "pygments_lexer": "ipython3",
   "version": "3.10.11"
  }
 },
 "nbformat": 4,
 "nbformat_minor": 5
}
