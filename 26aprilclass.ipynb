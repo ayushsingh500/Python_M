{
 "cells": [
  {
   "cell_type": "code",
   "execution_count": 2,
   "id": "eadd88d2-1978-453d-98f8-37e83f37279c",
   "metadata": {},
   "outputs": [],
   "source": [
    "data=\"hey tushar hey user hello user\"\n",
    "mylist=data.split()\n",
    "newlist=[]\n",
    "for i in mylist:\n",
    "    if(i not in newlist):\n",
    "        newlist.append(i)"
   ]
  },
  {
   "cell_type": "code",
   "execution_count": 6,
   "id": "e6a0964a-e9ea-4f64-9e8c-1ba28203b0bf",
   "metadata": {},
   "outputs": [
    {
     "name": "stdout",
     "output_type": "stream",
     "text": [
      "<class 'tuple'>\n"
     ]
    }
   ],
   "source": [
    "mytuple=10,\n",
    "print(type(mytuple))"
   ]
  },
  {
   "cell_type": "code",
   "execution_count": 16,
   "id": "7c81a789-2684-4dba-bf09-5359ac80564f",
   "metadata": {},
   "outputs": [
    {
     "ename": "TypeError",
     "evalue": "'tuple' object does not support item assignment",
     "output_type": "error",
     "traceback": [
      "\u001b[1;31m---------------------------------------------------------------------------\u001b[0m",
      "\u001b[1;31mTypeError\u001b[0m                                 Traceback (most recent call last)",
      "Cell \u001b[1;32mIn[16], line 1\u001b[0m\n\u001b[1;32m----> 1\u001b[0m \u001b[43mmytuple\u001b[49m\u001b[43m[\u001b[49m\u001b[38;5;241;43m0\u001b[39;49m\u001b[43m]\u001b[49m\u001b[38;5;241m=\u001b[39m\u001b[38;5;241m100\u001b[39m\n",
      "\u001b[1;31mTypeError\u001b[0m: 'tuple' object does not support item assignment"
     ]
    }
   ],
   "source": []
  },
  {
   "cell_type": "code",
   "execution_count": 8,
   "id": "84cc640d-2cfd-4cc1-874b-9f6a827f3f58",
   "metadata": {},
   "outputs": [],
   "source": [
    "#tuples are immutable\n"
   ]
  },
  {
   "cell_type": "code",
   "execution_count": 9,
   "id": "efb1b46b-907d-405b-929a-c9364765ff34",
   "metadata": {},
   "outputs": [],
   "source": [
    "# \"hey tushar hey hello hello tushar tushar\"\n",
    "x=\"hey tushar hey hello hello tushar tushar\"\n"
   ]
  },
  {
   "cell_type": "code",
   "execution_count": 15,
   "id": "55dad1be-330f-439c-8d23-58b947d0e7fd",
   "metadata": {},
   "outputs": [
    {
     "name": "stdout",
     "output_type": "stream",
     "text": [
      "armstrong number\n"
     ]
    }
   ],
   "source": [
    "# armstrong number\n",
    "x=153\n",
    "originalnumber=x\n",
    "total=0\n",
    "while(x>0):\n",
    "     rem=x%10\n",
    "     total+=rem**3\n",
    "     x=x//10\n",
    "if(total==originalnumber):\n",
    "     print(\"armstrong number\")\n",
    "else:\n",
    "     print(\"not\")"
   ]
  },
  {
   "cell_type": "code",
   "execution_count": null,
   "id": "561908d5-84fc-4bfa-bb0a-7b9ab2147d37",
   "metadata": {},
   "outputs": [],
   "source": [
    "# to find out whether a 4 digit number is a armstrong number\n",
    "# to find all the unique word from a string no duplicary\n",
    "\n"
   ]
  }
 ],
 "metadata": {
  "kernelspec": {
   "display_name": "Python 3 (ipykernel)",
   "language": "python",
   "name": "python3"
  },
  "language_info": {
   "codemirror_mode": {
    "name": "ipython",
    "version": 3
   },
   "file_extension": ".py",
   "mimetype": "text/x-python",
   "name": "python",
   "nbconvert_exporter": "python",
   "pygments_lexer": "ipython3",
   "version": "3.10.11"
  }
 },
 "nbformat": 4,
 "nbformat_minor": 5
}
