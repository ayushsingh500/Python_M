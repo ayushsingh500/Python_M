{
 "cells": [
  {
   "cell_type": "code",
   "execution_count": 4,
   "id": "45ef64a4-fd39-450c-aa1c-17f53fb1ecb1",
   "metadata": {},
   "outputs": [
    {
     "name": "stdout",
     "output_type": "stream",
     "text": [
      "Hello,ayush\n"
     ]
    }
   ],
   "source": [
    "name=\"ayush\"\n",
    "print(\"Hello,ayush\")"
   ]
  },
  {
   "cell_type": "code",
   "execution_count": 7,
   "id": "551d033a-8b67-44c4-b0e1-7d676dd43a4b",
   "metadata": {},
   "outputs": [
    {
     "name": "stdout",
     "output_type": "stream",
     "text": [
      "30\n",
      "positive\n"
     ]
    }
   ],
   "source": [
    "a=10\n",
    "b=20\n",
    "c=a+b\n",
    "print(c)\n",
    "if(c>0):\n",
    "    print(\"positive\")\n",
    "else:\n",
    "    print(\"negative\")"
   ]
  },
  {
   "cell_type": "code",
   "execution_count": 11,
   "id": "7a10a569-7141-47e6-b9af-35fbd21655dd",
   "metadata": {},
   "outputs": [
    {
     "name": "stdin",
     "output_type": "stream",
     "text": [
      "enter the value 30\n"
     ]
    },
    {
     "name": "stdout",
     "output_type": "stream",
     "text": [
      "correct\n"
     ]
    }
   ],
   "source": [
    "number=30\n",
    "usernumber=int(input(\"enter the value\"))\n",
    "if(number==usernumber):\n",
    "  print(\"correct\")\n",
    "else:\n",
    "    print(\"invalid\")"
   ]
  },
  {
   "cell_type": "code",
   "execution_count": 13,
   "id": "14a1e299-c3f3-4a65-91e9-5df864b01278",
   "metadata": {},
   "outputs": [
    {
     "name": "stdin",
     "output_type": "stream",
     "text": [
      "enter your firtname ayushsingh\n",
      "enter your lastname tanwar\n"
     ]
    },
    {
     "name": "stdout",
     "output_type": "stream",
     "text": [
      "ayushsingh  tanwar\n"
     ]
    }
   ],
   "source": [
    "firstname=input(\"enter your firtname\")\n",
    "lastname=input(\"enter your lastname\")\n",
    "wholename=firstname+'  '+lastname\n",
    "print(wholename)\n"
   ]
  },
  {
   "cell_type": "code",
   "execution_count": null,
   "id": "b2b081b4-b999-49db-ba64-b295435a23ba",
   "metadata": {},
   "outputs": [],
   "source": [
    "string=input(\"enter the string\")\n",
    "print(string.swapcase())"
   ]
  },
  {
   "cell_type": "code",
   "execution_count": 1,
   "id": "3eb173d2-a8da-4fae-b9d3-f2711ef8a7cd",
   "metadata": {},
   "outputs": [
    {
     "name": "stdin",
     "output_type": "stream",
     "text": [
      "enter the string ayush ayhjsg\n"
     ]
    },
    {
     "name": "stdout",
     "output_type": "stream",
     "text": [
      "AYUSH AYHJSG\n"
     ]
    }
   ],
   "source": [
    "string=input(\"enter the string\")\n",
    "print(string.swapcase())"
   ]
  },
  {
   "cell_type": "code",
   "execution_count": 5,
   "id": "42b1a87a-6223-42cb-a8ec-d0b47464dc8e",
   "metadata": {},
   "outputs": [
    {
     "name": "stdout",
     "output_type": "stream",
     "text": [
      "1 1\n",
      "3 2\n",
      "6 6\n",
      "10 24\n",
      "15 120\n",
      "21 720\n",
      "28 5040\n"
     ]
    }
   ],
   "source": [
    "list=[1,2,3,4,5,6,7]\n",
    "sum=0\n",
    "product=1\n",
    "for i in list:\n",
    "    sum+=i\n",
    "    product*=i\n",
    "    print(sum,product)"
   ]
  },
  {
   "cell_type": "code",
   "execution_count": 6,
   "id": "bb7b4a9f-385d-4ac3-8686-bc703cb50641",
   "metadata": {},
   "outputs": [
    {
     "name": "stdin",
     "output_type": "stream",
     "text": [
      "enter the number of item 5\n",
      "enter the  item 2\n",
      "enter the  item 3\n",
      "enter the  item 2\n",
      "enter the  item 5\n",
      "enter the  item 7\n"
     ]
    },
    {
     "name": "stdout",
     "output_type": "stream",
     "text": [
      "[2, 3, 2, 5, 7]\n",
      "**\n",
      "***\n",
      "**\n",
      "*****\n",
      "*******\n",
      "\n"
     ]
    }
   ],
   "source": [
    "num=int(input(\"enter the number of item\"))\n",
    "list=[]\n",
    "for i in range(0,num):\n",
    "    item=int(input(\"enter the  item\"))\n",
    "    list.append(item)\n",
    "print(list)\n",
    "for j in list:\n",
    "     print(\"*\"*j)\n",
    "print()   \n",
    "    "
   ]
  },
  {
   "cell_type": "code",
   "execution_count": null,
   "id": "d668723a-55c6-44d9-aca9-3f37563b2faf",
   "metadata": {},
   "outputs": [],
   "source": []
  }
 ],
 "metadata": {
  "kernelspec": {
   "display_name": "Python 3 (ipykernel)",
   "language": "python",
   "name": "python3"
  },
  "language_info": {
   "codemirror_mode": {
    "name": "ipython",
    "version": 3
   },
   "file_extension": ".py",
   "mimetype": "text/x-python",
   "name": "python",
   "nbconvert_exporter": "python",
   "pygments_lexer": "ipython3",
   "version": "3.10.11"
  }
 },
 "nbformat": 4,
 "nbformat_minor": 5
}
