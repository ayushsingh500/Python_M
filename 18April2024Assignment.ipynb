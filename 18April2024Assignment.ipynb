{
 "cells": [
  {
   "cell_type": "code",
   "execution_count": null,
   "id": "c4c09d59-2329-49e3-85ed-ebc95f0cac73",
   "metadata": {},
   "outputs": [],
   "source": [
    "# take a int number from the user and print the weekday\n"
   ]
  },
  {
   "cell_type": "code",
   "execution_count": null,
   "id": "391c8a86-a6ad-458d-908e-055422eab9c1",
   "metadata": {},
   "outputs": [],
   "source": [
    "# take a int number from the user and print the month name"
   ]
  },
  {
   "cell_type": "markdown",
   "id": "d15dc617-47bb-4229-bef6-1a1d6aa65a1d",
   "metadata": {},
   "source": [
    "x=input(\"Enter your name = \")\n",
    "\n",
    "print(x)"
   ]
  },
  {
   "cell_type": "code",
   "execution_count": 14,
   "id": "ca23a9f4-0311-4e0f-aeb1-4f3dc9e39a4f",
   "metadata": {},
   "outputs": [
    {
     "name": "stdin",
     "output_type": "stream",
     "text": [
      "Enter a number between 1 to 7 =  0\n"
     ]
    },
    {
     "name": "stdout",
     "output_type": "stream",
     "text": [
      "Invalid input\n"
     ]
    }
   ],
   "source": [
    "# take a int number from the user and print the weekday\n",
    "\n",
    "x=int(input(\"Enter a number between 1 to 7 = \"))\n",
    "if (x==1):\n",
    "    print(\"Sunday\")\n",
    "elif (x==2):\n",
    "    print(\"Monday\")\n",
    "elif (x==3):\n",
    "    print(\"tuesday\")\n",
    "elif (x==4):\n",
    "    print(\"wednesday\")\n",
    "elif(x==5):\n",
    "    print(\"thursday\")\n",
    "elif (x==6):\n",
    "    print(\"friday\")\n",
    "elif(x==7):\n",
    "    print(\"sataurday\n",
    "else:\n",
    "    print(\"Invalid input\")"
   ]
  },
  {
   "cell_type": "code",
   "execution_count": 17,
   "id": "150d96be-54eb-4f98-b60f-390b336e5158",
   "metadata": {},
   "outputs": [
    {
     "name": "stdin",
     "output_type": "stream",
     "text": [
      "enter the value 1\n"
     ]
    },
    {
     "name": "stdout",
     "output_type": "stream",
     "text": [
      "january\n"
     ]
    }
   ],
   "source": [
    "# take a int number from the user and print the month name\n",
    "\n",
    "x=int(input(\"enter the value\"))\n",
    "if (x==1):\n",
    "    print(\"january\")\n",
    "elif(x==2):\n",
    "    print(\"february\")\n",
    "elif(x==3):\n",
    "    print(\"march\")\n",
    "elif(x==4):\n",
    "    print(\"april\")\n",
    "elif(x==5):\n",
    "    print(\"may\")\n",
    "elif(x==6):\n",
    "    print(\"june\")\n",
    "elif (x==7):\n",
    "    print(\"july\")\n",
    "elif(x==8):\n",
    "    print(\"august\")\n",
    "elif(x==9):\n",
    "     print(\"september\")\n",
    "elif(x==10):\n",
    "    print(\"october\")\n",
    "elif(x==11):\n",
    "    print(\"november\")\n",
    "elif(x==12):\n",
    "    print(\"december\")\n",
    "else:\n",
    "    print(\"invalid input\")"
   ]
  },
  {
   "cell_type": "code",
   "execution_count": 22,
   "id": "f16a7c15-e540-4030-a9d4-26f41c698c78",
   "metadata": {},
   "outputs": [
    {
     "name": "stdin",
     "output_type": "stream",
     "text": [
      "enter the number 91\n"
     ]
    },
    {
     "name": "stdout",
     "output_type": "stream",
     "text": [
      "excellent\n"
     ]
    }
   ],
   "source": [
    "'''\n",
    "Take a number from the user\n",
    "- if the number is less than 60 => fail\n",
    "- if number is more than 60 and less than 80  => average\n",
    "- if number is more than 80 and less than 90  => good\n",
    "- if number is more tham 90  => excellent\n",
    "\n",
    "'''\n",
    "\n",
    "\n",
    "x=int(input(\"enter the number\"))\n",
    "if(x<60):\n",
    "    print(\"fail\")\n",
    "elif(x>=60and x<=80):\n",
    "    print(\"average\")\n",
    "elif(x>=81and x<=90):\n",
    "    print(\"good\")\n",
    "elif(x>=91):\n",
    "    print(\"excellent\")\n",
    "else:\n",
    "    print(\"invalid\")"
   ]
  }
 ],
 "metadata": {
  "kernelspec": {
   "display_name": "Python 3 (ipykernel)",
   "language": "python",
   "name": "python3"
  },
  "language_info": {
   "codemirror_mode": {
    "name": "ipython",
    "version": 3
   },
   "file_extension": ".py",
   "mimetype": "text/x-python",
   "name": "python",
   "nbconvert_exporter": "python",
   "pygments_lexer": "ipython3",
   "version": "3.10.11"
  }
 },
 "nbformat": 4,
 "nbformat_minor": 5
}
