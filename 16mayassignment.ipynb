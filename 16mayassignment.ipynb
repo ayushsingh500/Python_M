{
 "cells": [
  {
   "cell_type": "code",
   "execution_count": 2,
   "id": "99731428-40e3-48b4-b63e-e5836465ee62",
   "metadata": {},
   "outputs": [
    {
     "name": "stdin",
     "output_type": "stream",
     "text": [
      "enter the value of a 23\n",
      "enter the value of b 45\n"
     ]
    },
    {
     "name": "stdout",
     "output_type": "stream",
     "text": [
      "value of a is: 45\n",
      "value of b is: 23\n"
     ]
    }
   ],
   "source": [
    "a=int(input(\"enter the value of a\"))\n",
    "b=int(input(\"enter the value of b\"))\n",
    "a=a+b\n",
    "b=a-b\n",
    "a=a-b\n",
    "print(\"value of a is:\",a)\n",
    "print(\"value of b is:\",b)"
   ]
  },
  {
   "cell_type": "code",
   "execution_count": 4,
   "id": "1423a1ee-3225-4472-a2e9-f5046c409c49",
   "metadata": {},
   "outputs": [
    {
     "name": "stdin",
     "output_type": "stream",
     "text": [
      "enter the value of a 56\n",
      "enter the value of b 67\n",
      "enter the value of c 77\n"
     ]
    },
    {
     "name": "stdout",
     "output_type": "stream",
     "text": [
      "value of d is: 200\n"
     ]
    }
   ],
   "source": [
    "a=int(input(\"enter the value of a\"))\n",
    "b=int(input(\"enter the value of b\"))\n",
    "c=int(input(\"enter the value of c\"))\n",
    "d=a+b+c\n",
    "print(\"value of d is:\",d)"
   ]
  },
  {
   "cell_type": "code",
   "execution_count": 5,
   "id": "7258d9f3-92a4-413b-b9c6-014413b37a1b",
   "metadata": {},
   "outputs": [
    {
     "name": "stdin",
     "output_type": "stream",
     "text": [
      "enter the value of a 6\n"
     ]
    }
   ],
   "source": [
    "a=int(input(\"enter the value of a\"))\n",
    "b=int(input(\"enter the value of b\"))\n",
    "c=int(input(\"enter the value of c\"))\n",
    "d=a*a+b*b+c*c\n",
    "print(\"value of d is:\",d)\n"
   ]
  },
  {
   "cell_type": "code",
   "execution_count": 6,
   "id": "9acbae8d-c00d-493e-82a3-bdba7108aea6",
   "metadata": {},
   "outputs": [
    {
     "name": "stdin",
     "output_type": "stream",
     "text": [
      "enter the value of a 6\n",
      "enter the value of b 5\n",
      "enter the value of c 4\n"
     ]
    },
    {
     "name": "stdout",
     "output_type": "stream",
     "text": [
      "value of d is: 77\n"
     ]
    }
   ],
   "source": [
    "a=int(input(\"enter the value of a\"))\n",
    "b=int(input(\"enter the value of b\"))\n",
    "c=int(input(\"enter the value of c\"))\n",
    "d=a*a+b*b+c*c\n",
    "print(\"value of d is:\",d)\n"
   ]
  },
  {
   "cell_type": "code",
   "execution_count": 10,
   "id": "8a835027-9f86-4551-9755-92b6a9301e12",
   "metadata": {},
   "outputs": [
    {
     "name": "stdout",
     "output_type": "stream",
     "text": [
      "the number is: 3.46\n"
     ]
    }
   ],
   "source": [
    "a=3.456\n",
    "b=round(a,2)\n",
    "print(\"the number is:\",b)"
   ]
  },
  {
   "cell_type": "markdown",
   "id": "a9a92b51-a4bc-406c-a2b1-489747f5df64",
   "metadata": {},
   "source": [
    "##### "
   ]
  },
  {
   "cell_type": "code",
   "execution_count": 15,
   "id": "e00ce3ec-a7ea-48ac-b1ba-099266dc82d5",
   "metadata": {},
   "outputs": [
    {
     "name": "stdin",
     "output_type": "stream",
     "text": [
      " 5\n",
      " 45.2\n",
      " 445.2\n",
      " 55\n",
      " 56.2\n",
      " 55.1\n"
     ]
    },
    {
     "name": "stdout",
     "output_type": "stream",
     "text": [
      "[45.2, 445.2, 55.0, 56.2, 55.1]\n"
     ]
    }
   ],
   "source": [
    "list1=[]\n",
    "for i in range(int(input())):\n",
    "    num=float(input())\n",
    "    list1.append(num)\n",
    "\n",
    "print(list1)\n",
    "    \n",
    "\n"
   ]
  },
  {
   "cell_type": "code",
   "execution_count": 16,
   "id": "cf91c092-eab7-4304-8349-5606cf498873",
   "metadata": {},
   "outputs": [
    {
     "name": "stdin",
     "output_type": "stream",
     "text": [
      "enter the value  32\n"
     ]
    },
    {
     "name": "stdout",
     "output_type": "stream",
     "text": [
      "1\n",
      "2\n",
      "4\n",
      "8\n",
      "16\n",
      "32\n"
     ]
    }
   ],
   "source": [
    "num=int(input (\"enter the value \"))\n",
    "for i in range(1,num+1):\n",
    "    if num%i==0:\n",
    "        print(i)\n"
   ]
  },
  {
   "cell_type": "code",
   "execution_count": 5,
   "id": "1d08c394-51ed-4562-9091-55c9f5db9131",
   "metadata": {},
   "outputs": [
    {
     "name": "stdin",
     "output_type": "stream",
     "text": [
      "enter a number 153\n"
     ]
    },
    {
     "name": "stdout",
     "output_type": "stream",
     "text": [
      "351\n"
     ]
    }
   ],
   "source": [
    "sum1=0\n",
    "num=int(input(\"enter a number\"))\n",
    "while(num>0):\n",
    "    rem = num % 10\n",
    "    sum1 = sum1 * 10 + rem\n",
    "    num = num //10\n",
    "print(sum1)"
   ]
  },
  {
   "cell_type": "code",
   "execution_count": 3,
   "id": "ea60098d-a026-4317-bb17-b6f38773b511",
   "metadata": {},
   "outputs": [
    {
     "name": "stdin",
     "output_type": "stream",
     "text": [
      "Enter number for radius:- 5\n",
      "Enter number for hight:- 6\n"
     ]
    },
    {
     "name": "stdout",
     "output_type": "stream",
     "text": [
      "volume is:- 471.0\n",
      "The cost of the milk when the cost of 1ltr milk is 40:- 18840.0\n"
     ]
    }
   ],
   "source": [
    "\n",
    "pi=3.14\n",
    "r=float(input(\"Enter number for radius:-\"))\n",
    "h=float(input(\"Enter number for hight:-\"))\n",
    "volume=pi*r*r*h\n",
    "print(\"volume is:-\",volume)\n",
    "a=volume*40\n",
    "print(\"The cost of the milk when the cost of 1ltr milk is 40:-\",a)"
   ]
  },
  {
   "cell_type": "code",
   "execution_count": null,
   "id": "ada93d30-5aa0-4d2f-a3ee-0954d5795e88",
   "metadata": {},
   "outputs": [],
   "source": []
  }
 ],
 "metadata": {
  "kernelspec": {
   "display_name": "Python 3 (ipykernel)",
   "language": "python",
   "name": "python3"
  },
  "language_info": {
   "codemirror_mode": {
    "name": "ipython",
    "version": 3
   },
   "file_extension": ".py",
   "mimetype": "text/x-python",
   "name": "python",
   "nbconvert_exporter": "python",
   "pygments_lexer": "ipython3",
   "version": "3.10.11"
  }
 },
 "nbformat": 4,
 "nbformat_minor": 5
}
